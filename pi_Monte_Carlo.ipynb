{
  "nbformat": 4,
  "nbformat_minor": 0,
  "metadata": {
    "colab": {
      "name": "pi_Monte_Carlo.ipynb",
      "provenance": [],
      "authorship_tag": "ABX9TyPhtFuorOugKgFlv6VE+XkQ",
      "include_colab_link": true
    },
    "kernelspec": {
      "name": "python3",
      "display_name": "Python 3"
    },
    "language_info": {
      "name": "python"
    }
  },
  "cells": [
    {
      "cell_type": "markdown",
      "metadata": {
        "id": "view-in-github",
        "colab_type": "text"
      },
      "source": [
        "<a href=\"https://colab.research.google.com/github/samuelpolontalo/pi_Monte_Carlo/blob/main/pi_Monte_Carlo.ipynb\" target=\"_parent\"><img src=\"https://colab.research.google.com/assets/colab-badge.svg\" alt=\"Open In Colab\"/></a>"
      ]
    },
    {
      "cell_type": "code",
      "source": [
        "from random import random\n",
        "#fungsi lingkaran\n",
        "def f(x):\n",
        "  y = (1-x**2)**0.5\n",
        "  return y\n",
        "\n",
        "\n",
        "N = input('Mohon masukan jumlah iterasi yang ingin dilakukan: ')\n",
        "N = int(N)\n",
        "data_yling = []\n",
        "for i in range (N):\n",
        "  x = random()\n",
        "  y = random()\n",
        "  y_lingkaran = f(x)\n",
        "  if y_lingkaran > y:\n",
        "    data_yling.append(y_lingkaran)\n",
        "\n",
        "pi =(len(data_yling)/N)*4\n",
        "print (\"nilai pi hasil iterasi: \", pi)\n",
        "print(\"nilai pi refrensi: 3.141592653589793238\")"
      ],
      "metadata": {
        "colab": {
          "base_uri": "https://localhost:8080/"
        },
        "id": "HiGnsw02gIDI",
        "outputId": "99037f74-2076-406b-c9fb-15b7b8b0a359"
      },
      "execution_count": null,
      "outputs": [
        {
          "output_type": "stream",
          "name": "stdout",
          "text": [
            "Mohon masukan jumlah iterasi yang ingin dilakukan: 100000000\n",
            "nilai pi hasil iterasi:  3.141688\n",
            "nilai pi refrensi: 3.141592653589793238\n"
          ]
        }
      ]
    }
  ]
}